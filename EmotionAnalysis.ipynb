{
  "nbformat": 4,
  "nbformat_minor": 0,
  "metadata": {
    "colab": {
      "provenance": [],
      "mount_file_id": "1mCiIUYwZ9atb6o-eM0ERFT451hLEAwYO",
      "authorship_tag": "ABX9TyOSjazHLmxZGRqVWLrEbJSJ",
      "include_colab_link": true
    },
    "kernelspec": {
      "name": "python3",
      "display_name": "Python 3"
    },
    "language_info": {
      "name": "python"
    }
  },
  "cells": [
    {
      "cell_type": "markdown",
      "metadata": {
        "id": "view-in-github",
        "colab_type": "text"
      },
      "source": [
        "<a href=\"https://colab.research.google.com/github/Sercan1111/Emotion-Analysis-NLP/blob/main/EmotionAnalysis.ipynb\" target=\"_parent\"><img src=\"https://colab.research.google.com/assets/colab-badge.svg\" alt=\"Open In Colab\"/></a>"
      ]
    },
    {
      "cell_type": "code",
      "execution_count": null,
      "metadata": {
        "colab": {
          "base_uri": "https://localhost:8080/",
          "height": 746
        },
        "id": "3kguO_HlI4SC",
        "outputId": "415b4339-9f6a-441e-e711-1be88c0b13aa"
      },
      "outputs": [
        {
          "output_type": "stream",
          "name": "stderr",
          "text": [
            "[nltk_data] Downloading package punkt to /root/nltk_data...\n",
            "[nltk_data]   Unzipping tokenizers/punkt.zip.\n",
            "[nltk_data] Downloading package stopwords to /root/nltk_data...\n",
            "[nltk_data]   Unzipping corpora/stopwords.zip.\n"
          ]
        },
        {
          "output_type": "execute_result",
          "data": {
            "text/plain": [
              "                                              Comment Emotion\n",
              "0   i seriously hate one subject to death but now ...    fear\n",
              "1                  im so full of life i feel appalled   anger\n",
              "2   i sit here to write i start to dig out my feel...    fear\n",
              "3   ive been really angry with r and i feel like a...     joy\n",
              "4   i feel suspicious if there is no one outside l...    fear\n",
              "5   i feel jealous becasue i wanted that kind of l...   anger\n",
              "6   when a friend of mine keeps telling me morbid ...   anger\n",
              "7   i finally fell asleep feeling angry useless an...   anger\n",
              "8        i feel a bit annoyed and antsy in a good way   anger\n",
              "9   i feel like i ve regained another vital part o...     joy\n",
              "10  i feel a bit like franz liebkind in the produc...     joy\n",
              "11  i was feeling at the start didnt want to move ...     joy\n",
              "12                              i was bitten by a dog    fear\n",
              "13  i do not always find myself feeling thankful b...     joy\n",
              "14  i just try not to talk to anyone when i feel i...   anger\n",
              "15               i feel like they hated me since then   anger\n",
              "16  i dont know who wrote the following little not...   anger\n",
              "17  i feel offended i choose to tell you guys how ...   anger\n",
              "18  i remember feeling as if i didn t belong and t...     joy\n",
              "19  i feel like i have to redeem myself even thoug...    fear"
            ],
            "text/html": [
              "\n",
              "  <div id=\"df-33f32dbf-769c-4090-b292-cbcc83ff2c96\" class=\"colab-df-container\">\n",
              "    <div>\n",
              "<style scoped>\n",
              "    .dataframe tbody tr th:only-of-type {\n",
              "        vertical-align: middle;\n",
              "    }\n",
              "\n",
              "    .dataframe tbody tr th {\n",
              "        vertical-align: top;\n",
              "    }\n",
              "\n",
              "    .dataframe thead th {\n",
              "        text-align: right;\n",
              "    }\n",
              "</style>\n",
              "<table border=\"1\" class=\"dataframe\">\n",
              "  <thead>\n",
              "    <tr style=\"text-align: right;\">\n",
              "      <th></th>\n",
              "      <th>Comment</th>\n",
              "      <th>Emotion</th>\n",
              "    </tr>\n",
              "  </thead>\n",
              "  <tbody>\n",
              "    <tr>\n",
              "      <th>0</th>\n",
              "      <td>i seriously hate one subject to death but now ...</td>\n",
              "      <td>fear</td>\n",
              "    </tr>\n",
              "    <tr>\n",
              "      <th>1</th>\n",
              "      <td>im so full of life i feel appalled</td>\n",
              "      <td>anger</td>\n",
              "    </tr>\n",
              "    <tr>\n",
              "      <th>2</th>\n",
              "      <td>i sit here to write i start to dig out my feel...</td>\n",
              "      <td>fear</td>\n",
              "    </tr>\n",
              "    <tr>\n",
              "      <th>3</th>\n",
              "      <td>ive been really angry with r and i feel like a...</td>\n",
              "      <td>joy</td>\n",
              "    </tr>\n",
              "    <tr>\n",
              "      <th>4</th>\n",
              "      <td>i feel suspicious if there is no one outside l...</td>\n",
              "      <td>fear</td>\n",
              "    </tr>\n",
              "    <tr>\n",
              "      <th>5</th>\n",
              "      <td>i feel jealous becasue i wanted that kind of l...</td>\n",
              "      <td>anger</td>\n",
              "    </tr>\n",
              "    <tr>\n",
              "      <th>6</th>\n",
              "      <td>when a friend of mine keeps telling me morbid ...</td>\n",
              "      <td>anger</td>\n",
              "    </tr>\n",
              "    <tr>\n",
              "      <th>7</th>\n",
              "      <td>i finally fell asleep feeling angry useless an...</td>\n",
              "      <td>anger</td>\n",
              "    </tr>\n",
              "    <tr>\n",
              "      <th>8</th>\n",
              "      <td>i feel a bit annoyed and antsy in a good way</td>\n",
              "      <td>anger</td>\n",
              "    </tr>\n",
              "    <tr>\n",
              "      <th>9</th>\n",
              "      <td>i feel like i ve regained another vital part o...</td>\n",
              "      <td>joy</td>\n",
              "    </tr>\n",
              "    <tr>\n",
              "      <th>10</th>\n",
              "      <td>i feel a bit like franz liebkind in the produc...</td>\n",
              "      <td>joy</td>\n",
              "    </tr>\n",
              "    <tr>\n",
              "      <th>11</th>\n",
              "      <td>i was feeling at the start didnt want to move ...</td>\n",
              "      <td>joy</td>\n",
              "    </tr>\n",
              "    <tr>\n",
              "      <th>12</th>\n",
              "      <td>i was bitten by a dog</td>\n",
              "      <td>fear</td>\n",
              "    </tr>\n",
              "    <tr>\n",
              "      <th>13</th>\n",
              "      <td>i do not always find myself feeling thankful b...</td>\n",
              "      <td>joy</td>\n",
              "    </tr>\n",
              "    <tr>\n",
              "      <th>14</th>\n",
              "      <td>i just try not to talk to anyone when i feel i...</td>\n",
              "      <td>anger</td>\n",
              "    </tr>\n",
              "    <tr>\n",
              "      <th>15</th>\n",
              "      <td>i feel like they hated me since then</td>\n",
              "      <td>anger</td>\n",
              "    </tr>\n",
              "    <tr>\n",
              "      <th>16</th>\n",
              "      <td>i dont know who wrote the following little not...</td>\n",
              "      <td>anger</td>\n",
              "    </tr>\n",
              "    <tr>\n",
              "      <th>17</th>\n",
              "      <td>i feel offended i choose to tell you guys how ...</td>\n",
              "      <td>anger</td>\n",
              "    </tr>\n",
              "    <tr>\n",
              "      <th>18</th>\n",
              "      <td>i remember feeling as if i didn t belong and t...</td>\n",
              "      <td>joy</td>\n",
              "    </tr>\n",
              "    <tr>\n",
              "      <th>19</th>\n",
              "      <td>i feel like i have to redeem myself even thoug...</td>\n",
              "      <td>fear</td>\n",
              "    </tr>\n",
              "  </tbody>\n",
              "</table>\n",
              "</div>\n",
              "    <div class=\"colab-df-buttons\">\n",
              "\n",
              "  <div class=\"colab-df-container\">\n",
              "    <button class=\"colab-df-convert\" onclick=\"convertToInteractive('df-33f32dbf-769c-4090-b292-cbcc83ff2c96')\"\n",
              "            title=\"Convert this dataframe to an interactive table.\"\n",
              "            style=\"display:none;\">\n",
              "\n",
              "  <svg xmlns=\"http://www.w3.org/2000/svg\" height=\"24px\" viewBox=\"0 -960 960 960\">\n",
              "    <path d=\"M120-120v-720h720v720H120Zm60-500h600v-160H180v160Zm220 220h160v-160H400v160Zm0 220h160v-160H400v160ZM180-400h160v-160H180v160Zm440 0h160v-160H620v160ZM180-180h160v-160H180v160Zm440 0h160v-160H620v160Z\"/>\n",
              "  </svg>\n",
              "    </button>\n",
              "\n",
              "  <style>\n",
              "    .colab-df-container {\n",
              "      display:flex;\n",
              "      gap: 12px;\n",
              "    }\n",
              "\n",
              "    .colab-df-convert {\n",
              "      background-color: #E8F0FE;\n",
              "      border: none;\n",
              "      border-radius: 50%;\n",
              "      cursor: pointer;\n",
              "      display: none;\n",
              "      fill: #1967D2;\n",
              "      height: 32px;\n",
              "      padding: 0 0 0 0;\n",
              "      width: 32px;\n",
              "    }\n",
              "\n",
              "    .colab-df-convert:hover {\n",
              "      background-color: #E2EBFA;\n",
              "      box-shadow: 0px 1px 2px rgba(60, 64, 67, 0.3), 0px 1px 3px 1px rgba(60, 64, 67, 0.15);\n",
              "      fill: #174EA6;\n",
              "    }\n",
              "\n",
              "    .colab-df-buttons div {\n",
              "      margin-bottom: 4px;\n",
              "    }\n",
              "\n",
              "    [theme=dark] .colab-df-convert {\n",
              "      background-color: #3B4455;\n",
              "      fill: #D2E3FC;\n",
              "    }\n",
              "\n",
              "    [theme=dark] .colab-df-convert:hover {\n",
              "      background-color: #434B5C;\n",
              "      box-shadow: 0px 1px 3px 1px rgba(0, 0, 0, 0.15);\n",
              "      filter: drop-shadow(0px 1px 2px rgba(0, 0, 0, 0.3));\n",
              "      fill: #FFFFFF;\n",
              "    }\n",
              "  </style>\n",
              "\n",
              "    <script>\n",
              "      const buttonEl =\n",
              "        document.querySelector('#df-33f32dbf-769c-4090-b292-cbcc83ff2c96 button.colab-df-convert');\n",
              "      buttonEl.style.display =\n",
              "        google.colab.kernel.accessAllowed ? 'block' : 'none';\n",
              "\n",
              "      async function convertToInteractive(key) {\n",
              "        const element = document.querySelector('#df-33f32dbf-769c-4090-b292-cbcc83ff2c96');\n",
              "        const dataTable =\n",
              "          await google.colab.kernel.invokeFunction('convertToInteractive',\n",
              "                                                    [key], {});\n",
              "        if (!dataTable) return;\n",
              "\n",
              "        const docLinkHtml = 'Like what you see? Visit the ' +\n",
              "          '<a target=\"_blank\" href=https://colab.research.google.com/notebooks/data_table.ipynb>data table notebook</a>'\n",
              "          + ' to learn more about interactive tables.';\n",
              "        element.innerHTML = '';\n",
              "        dataTable['output_type'] = 'display_data';\n",
              "        await google.colab.output.renderOutput(dataTable, element);\n",
              "        const docLink = document.createElement('div');\n",
              "        docLink.innerHTML = docLinkHtml;\n",
              "        element.appendChild(docLink);\n",
              "      }\n",
              "    </script>\n",
              "  </div>\n",
              "\n",
              "\n",
              "<div id=\"df-68863561-f6fb-498f-984b-c037695e6332\">\n",
              "  <button class=\"colab-df-quickchart\" onclick=\"quickchart('df-68863561-f6fb-498f-984b-c037695e6332')\"\n",
              "            title=\"Suggest charts\"\n",
              "            style=\"display:none;\">\n",
              "\n",
              "<svg xmlns=\"http://www.w3.org/2000/svg\" height=\"24px\"viewBox=\"0 0 24 24\"\n",
              "     width=\"24px\">\n",
              "    <g>\n",
              "        <path d=\"M19 3H5c-1.1 0-2 .9-2 2v14c0 1.1.9 2 2 2h14c1.1 0 2-.9 2-2V5c0-1.1-.9-2-2-2zM9 17H7v-7h2v7zm4 0h-2V7h2v10zm4 0h-2v-4h2v4z\"/>\n",
              "    </g>\n",
              "</svg>\n",
              "  </button>\n",
              "\n",
              "<style>\n",
              "  .colab-df-quickchart {\n",
              "      --bg-color: #E8F0FE;\n",
              "      --fill-color: #1967D2;\n",
              "      --hover-bg-color: #E2EBFA;\n",
              "      --hover-fill-color: #174EA6;\n",
              "      --disabled-fill-color: #AAA;\n",
              "      --disabled-bg-color: #DDD;\n",
              "  }\n",
              "\n",
              "  [theme=dark] .colab-df-quickchart {\n",
              "      --bg-color: #3B4455;\n",
              "      --fill-color: #D2E3FC;\n",
              "      --hover-bg-color: #434B5C;\n",
              "      --hover-fill-color: #FFFFFF;\n",
              "      --disabled-bg-color: #3B4455;\n",
              "      --disabled-fill-color: #666;\n",
              "  }\n",
              "\n",
              "  .colab-df-quickchart {\n",
              "    background-color: var(--bg-color);\n",
              "    border: none;\n",
              "    border-radius: 50%;\n",
              "    cursor: pointer;\n",
              "    display: none;\n",
              "    fill: var(--fill-color);\n",
              "    height: 32px;\n",
              "    padding: 0;\n",
              "    width: 32px;\n",
              "  }\n",
              "\n",
              "  .colab-df-quickchart:hover {\n",
              "    background-color: var(--hover-bg-color);\n",
              "    box-shadow: 0 1px 2px rgba(60, 64, 67, 0.3), 0 1px 3px 1px rgba(60, 64, 67, 0.15);\n",
              "    fill: var(--button-hover-fill-color);\n",
              "  }\n",
              "\n",
              "  .colab-df-quickchart-complete:disabled,\n",
              "  .colab-df-quickchart-complete:disabled:hover {\n",
              "    background-color: var(--disabled-bg-color);\n",
              "    fill: var(--disabled-fill-color);\n",
              "    box-shadow: none;\n",
              "  }\n",
              "\n",
              "  .colab-df-spinner {\n",
              "    border: 2px solid var(--fill-color);\n",
              "    border-color: transparent;\n",
              "    border-bottom-color: var(--fill-color);\n",
              "    animation:\n",
              "      spin 1s steps(1) infinite;\n",
              "  }\n",
              "\n",
              "  @keyframes spin {\n",
              "    0% {\n",
              "      border-color: transparent;\n",
              "      border-bottom-color: var(--fill-color);\n",
              "      border-left-color: var(--fill-color);\n",
              "    }\n",
              "    20% {\n",
              "      border-color: transparent;\n",
              "      border-left-color: var(--fill-color);\n",
              "      border-top-color: var(--fill-color);\n",
              "    }\n",
              "    30% {\n",
              "      border-color: transparent;\n",
              "      border-left-color: var(--fill-color);\n",
              "      border-top-color: var(--fill-color);\n",
              "      border-right-color: var(--fill-color);\n",
              "    }\n",
              "    40% {\n",
              "      border-color: transparent;\n",
              "      border-right-color: var(--fill-color);\n",
              "      border-top-color: var(--fill-color);\n",
              "    }\n",
              "    60% {\n",
              "      border-color: transparent;\n",
              "      border-right-color: var(--fill-color);\n",
              "    }\n",
              "    80% {\n",
              "      border-color: transparent;\n",
              "      border-right-color: var(--fill-color);\n",
              "      border-bottom-color: var(--fill-color);\n",
              "    }\n",
              "    90% {\n",
              "      border-color: transparent;\n",
              "      border-bottom-color: var(--fill-color);\n",
              "    }\n",
              "  }\n",
              "</style>\n",
              "\n",
              "  <script>\n",
              "    async function quickchart(key) {\n",
              "      const quickchartButtonEl =\n",
              "        document.querySelector('#' + key + ' button');\n",
              "      quickchartButtonEl.disabled = true;  // To prevent multiple clicks.\n",
              "      quickchartButtonEl.classList.add('colab-df-spinner');\n",
              "      try {\n",
              "        const charts = await google.colab.kernel.invokeFunction(\n",
              "            'suggestCharts', [key], {});\n",
              "      } catch (error) {\n",
              "        console.error('Error during call to suggestCharts:', error);\n",
              "      }\n",
              "      quickchartButtonEl.classList.remove('colab-df-spinner');\n",
              "      quickchartButtonEl.classList.add('colab-df-quickchart-complete');\n",
              "    }\n",
              "    (() => {\n",
              "      let quickchartButtonEl =\n",
              "        document.querySelector('#df-68863561-f6fb-498f-984b-c037695e6332 button');\n",
              "      quickchartButtonEl.style.display =\n",
              "        google.colab.kernel.accessAllowed ? 'block' : 'none';\n",
              "    })();\n",
              "  </script>\n",
              "</div>\n",
              "    </div>\n",
              "  </div>\n"
            ],
            "application/vnd.google.colaboratory.intrinsic+json": {
              "type": "dataframe",
              "variable_name": "preview",
              "summary": "{\n  \"name\": \"preview\",\n  \"rows\": 20,\n  \"fields\": [\n    {\n      \"column\": \"Comment\",\n      \"properties\": {\n        \"dtype\": \"string\",\n        \"num_unique_values\": 20,\n        \"samples\": [\n          \"i seriously hate one subject to death but now i feel reluctant to drop it\",\n          \"i feel offended i choose to tell you guys how i feel because i treated you guys as friends and would want to put a stop to all these nonsense\",\n          \"i feel like they hated me since then\"\n        ],\n        \"semantic_type\": \"\",\n        \"description\": \"\"\n      }\n    },\n    {\n      \"column\": \"Emotion\",\n      \"properties\": {\n        \"dtype\": \"category\",\n        \"num_unique_values\": 3,\n        \"samples\": [\n          \"fear\",\n          \"anger\",\n          \"joy\"\n        ],\n        \"semantic_type\": \"\",\n        \"description\": \"\"\n      }\n    }\n  ]\n}"
            }
          },
          "metadata": {},
          "execution_count": 2
        }
      ],
      "source": [
        "import pandas as pd\n",
        "import re\n",
        "from sklearn.feature_extraction.text import CountVectorizer\n",
        "import matplotlib.pyplot as plt\n",
        "import seaborn as sns\n",
        "from nltk.corpus import stopwords\n",
        "from nltk.tokenize import word_tokenize\n",
        "import nltk\n",
        "import emoji\n",
        "from collections import Counter\n",
        "\n",
        "nltk.download('punkt')\n",
        "nltk.download('stopwords')\n",
        "file_path = \"/content/drive/MyDrive/Colab_Notebooks/Emotion_classify_Data.csv\"\n",
        "df = pd.read_csv(file_path)\n",
        "preview = df.head(20)\n",
        "preview"
      ]
    },
    {
      "cell_type": "code",
      "source": [
        "!pip install emoji"
      ],
      "metadata": {
        "colab": {
          "base_uri": "https://localhost:8080/"
        },
        "id": "5M1cb8wCQE7j",
        "outputId": "840843cc-03a5-40c7-be95-f09d27581fb4"
      },
      "execution_count": null,
      "outputs": [
        {
          "output_type": "stream",
          "name": "stdout",
          "text": [
            "Collecting emoji\n",
            "  Downloading emoji-2.11.0-py2.py3-none-any.whl (433 kB)\n",
            "\u001b[2K     \u001b[90m━━━━━━━━━━━━━━━━━━━━━━━━━━━━━━━━━━━━━━━━\u001b[0m \u001b[32m433.8/433.8 kB\u001b[0m \u001b[31m3.2 MB/s\u001b[0m eta \u001b[36m0:00:00\u001b[0m\n",
            "\u001b[?25hInstalling collected packages: emoji\n",
            "Successfully installed emoji-2.11.0\n"
          ]
        }
      ]
    },
    {
      "cell_type": "code",
      "source": [
        "# Initialize a CountVectorizer\n",
        "vectorizer = CountVectorizer(stop_words='english', max_features=1000)\n",
        "\n",
        "# Filter the DataFrame by emotion\n",
        "emotion_data = df[df['Emotion'] == 'joy']\n",
        "\n",
        "# Apply CountVectorizer to transform the text to a token count matrix\n",
        "X = vectorizer.fit_transform(emotion_data['Comment'])\n",
        "\n",
        "# Sum the counts of each term\n",
        "sum_words = X.sum(axis=0)\n",
        "\n",
        "# Map the indices to the terms\n",
        "words_freq = [(word, sum_words[0, idx]) for word, idx in vectorizer.vocabulary_.items()]\n",
        "\n",
        "# Sort the words by frequency\n",
        "words_freq = sorted(words_freq, key=lambda x: x[1], reverse=True)\n",
        "\n",
        "# Get the top 5 words and their counts\n",
        "top_words = words_freq[:5]\n",
        "\n",
        "# Convert the top words to a DataFrame\n",
        "top_words_df = pd.DataFrame(top_words, columns=['Word', 'Count'])\n",
        "top_words_df['Emotion'] = 'joy'\n",
        "\n",
        "# Plotting\n",
        "plt.figure(figsize=(10, 8))\n",
        "sns.barplot(x='Count', y='Word', data=top_words_df, palette='viridis')\n",
        "plt.title('Top 5 Words Used for Emotion \"Joy\"')\n",
        "plt.xlabel('Count')\n",
        "plt.ylabel('Word')\n",
        "plt.show()"
      ],
      "metadata": {
        "colab": {
          "base_uri": "https://localhost:8080/",
          "height": 825
        },
        "id": "Z0oStI4sJFXv",
        "outputId": "caf1503e-bcc4-4918-8789-ff983ae2b0f6"
      },
      "execution_count": null,
      "outputs": [
        {
          "output_type": "stream",
          "name": "stderr",
          "text": [
            "<ipython-input-3-db3e055af2d9>:28: FutureWarning: \n",
            "\n",
            "Passing `palette` without assigning `hue` is deprecated and will be removed in v0.14.0. Assign the `y` variable to `hue` and set `legend=False` for the same effect.\n",
            "\n",
            "  sns.barplot(x='Count', y='Word', data=top_words_df, palette='viridis')\n"
          ]
        },
        {
          "output_type": "display_data",
          "data": {
            "text/plain": [
              "<Figure size 1000x800 with 1 Axes>"
            ],
            "image/png": "[encoded data removed]"
          },
          "metadata": {}
        }
      ]
    },
    {
      "cell_type": "code",
      "source": [
        "# Convert the 'Comment' column to lowercase\n",
        "df['Comment'] = df['Comment'].str.lower()\n",
        "\n",
        "# Display the first few rows to verify the transformation\n",
        "print(df.head())"
      ],
      "metadata": {
        "colab": {
          "base_uri": "https://localhost:8080/"
        },
        "id": "1Y_hPEXFK8ik",
        "outputId": "2329fdde-2956-4c94-b8f8-f19805d94d72"
      },
      "execution_count": null,
      "outputs": [
        {
          "output_type": "stream",
          "name": "stdout",
          "text": [
            "                                             Comment Emotion\n",
            "0  i seriously hate one subject to death but now ...    fear\n",
            "1                 im so full of life i feel appalled   anger\n",
            "2  i sit here to write i start to dig out my feel...    fear\n",
            "3  ive been really angry with r and i feel like a...     joy\n",
            "4  i feel suspicious if there is no one outside l...    fear\n"
          ]
        }
      ]
    },
    {
      "cell_type": "code",
      "source": [
        "# we exclude the numbers, commas and dots by kept the other special characters can be beneficial for emotion analysis\n",
        "df['Comment'] = df['Comment'].apply(lambda x: re.sub(r'[\\d.,;]', '', x))\n",
        "print(df.head())\n"
      ],
      "metadata": {
        "colab": {
          "base_uri": "https://localhost:8080/"
        },
        "id": "Bcfo-awOPQrL",
        "outputId": "69ea1713-b68b-461f-8d25-70e2fbf1a05c"
      },
      "execution_count": null,
      "outputs": [
        {
          "output_type": "stream",
          "name": "stdout",
          "text": [
            "                                             Comment Emotion\n",
            "0  i seriously hate one subject to death but now ...    fear\n",
            "1                 im so full of life i feel appalled   anger\n",
            "2  i sit here to write i start to dig out my feel...    fear\n",
            "3  ive been really angry with r and i feel like a...     joy\n",
            "4  i feel suspicious if there is no one outside l...    fear\n"
          ]
        }
      ]
    },
    {
      "cell_type": "code",
      "source": [
        "stop_words = set(stopwords.words('english')) - set(['not'])\n",
        "df['Comment'] = df['Comment'].apply(lambda x: ' '.join([word for word in word_tokenize(x) if word not in stop_words]))\n",
        "print(df.head())\n"
      ],
      "metadata": {
        "colab": {
          "base_uri": "https://localhost:8080/"
        },
        "id": "M77vzk43QczD",
        "outputId": "e776b1a2-f55b-4f4f-da77-795952026e64"
      },
      "execution_count": null,
      "outputs": [
        {
          "output_type": "stream",
          "name": "stdout",
          "text": [
            "                                             Comment Emotion\n",
            "0  seriously hate one subject death feel reluctan...    fear\n",
            "1                         im full life feel appalled   anger\n",
            "2  sit write start dig feelings think afraid acce...    fear\n",
            "3  ive really angry r feel like idiot trusting fi...     joy\n",
            "4  feel suspicious one outside like rapture happe...    fear\n"
          ]
        }
      ]
    },
    {
      "cell_type": "code",
      "source": [
        "def extract_emojis(str):\n",
        "    return ''.join(c for c in str if c in emoji.EMOJI_DATA)\n",
        "\n",
        "# Yorumlardan emoji'leri çıkar ve ayrı bir sütunda sakla\n",
        "df['Emojis'] = df['Comment'].apply(extract_emojis)\n",
        "\n",
        "print(df.head())"
      ],
      "metadata": {
        "colab": {
          "base_uri": "https://localhost:8080/"
        },
        "id": "TWGrykiQJ3jS",
        "outputId": "0b463c6c-1bb4-4e3c-f17d-737bd335765f"
      },
      "execution_count": null,
      "outputs": [
        {
          "output_type": "stream",
          "name": "stdout",
          "text": [
            "                                             Comment Emotion Emojis\n",
            "0  seriously hate one subject death feel reluctan...    fear       \n",
            "1                         im full life feel appalled   anger       \n",
            "2  sit write start dig feelings think afraid acce...    fear       \n",
            "3  ive really angry r feel like idiot trusting fi...     joy       \n",
            "4  feel suspicious one outside like rapture happe...    fear       \n"
          ]
        }
      ]
    },
    {
      "cell_type": "code",
      "source": [
        "# Visualize the distribution of data\n",
        "emotion_count = df['Emotion'].value_counts()\n",
        "sns.barplot(x=emotion_count.index, y=emotion_count.values, palette='viridis')\n",
        "plt.title('Distribution of Emotions in the Dataset')\n",
        "plt.xlabel('Emotion')\n",
        "plt.ylabel('Frequency')\n",
        "plt.xticks(rotation=45)\n",
        "plt.show()"
      ],
      "metadata": {
        "colab": {
          "base_uri": "https://localhost:8080/",
          "height": 603
        },
        "id": "oCN2NiKPKA9z",
        "outputId": "1252805a-d170-485f-f63f-426a515b2982"
      },
      "execution_count": null,
      "outputs": [
        {
          "output_type": "stream",
          "name": "stderr",
          "text": [
            "<ipython-input-8-3538feb7d8f9>:3: FutureWarning: \n",
            "\n",
            "Passing `palette` without assigning `hue` is deprecated and will be removed in v0.14.0. Assign the `x` variable to `hue` and set `legend=False` for the same effect.\n",
            "\n",
            "  sns.barplot(x=emotion_count.index, y=emotion_count.values, palette='viridis')\n"
          ]
        },
        {
          "output_type": "display_data",
          "data": {
            "text/plain": [
              "<Figure size 640x480 with 1 Axes>"
            ],
            "image/png": "[encoded data removed]"
          },
          "metadata": {}
        }
      ]
    },
    {
      "cell_type": "code",
      "source": [
        "# Word Frequency Analysis\n",
        "def plot_most_common_words(df, emotion, n=10):\n",
        "    # Filter the DataFrame for the specified emotion\n",
        "    df_emotion = df[df['Emotion'] == emotion]\n",
        "\n",
        "    # Tokenize words and calculate frequency\n",
        "    words = []\n",
        "    for comment in df_emotion['Comment']:\n",
        "        words.extend(word_tokenize(comment))\n",
        "    word_freq = Counter(words)\n",
        "\n",
        "    # Get the most common words and their counts\n",
        "    most_common_words = word_freq.most_common(n)\n",
        "\n",
        "    # Plot\n",
        "    words, counts = zip(*most_common_words)\n",
        "    plt.figure(figsize=(10, 8))\n",
        "    sns.barplot(x=list(counts), y=list(words), palette='viridis')\n",
        "    plt.title(f'Most Common Words for {emotion}')\n",
        "    plt.show()\n",
        "\n",
        "# Example usage for 'joy'\n",
        "plot_most_common_words(df, 'joy')"
      ],
      "metadata": {
        "colab": {
          "base_uri": "https://localhost:8080/",
          "height": 806
        },
        "id": "WVjoLnilSbC7",
        "outputId": "08f110e0-7d13-477f-c8da-e45f4d2812aa"
      },
      "execution_count": null,
      "outputs": [
        {
          "output_type": "stream",
          "name": "stderr",
          "text": [
            "<ipython-input-9-e78939430220>:18: FutureWarning: \n",
            "\n",
            "Passing `palette` without assigning `hue` is deprecated and will be removed in v0.14.0. Assign the `y` variable to `hue` and set `legend=False` for the same effect.\n",
            "\n",
            "  sns.barplot(x=list(counts), y=list(words), palette='viridis')\n"
          ]
        },
        {
          "output_type": "display_data",
          "data": {
            "text/plain": [
              "<Figure size 1000x800 with 1 Axes>"
            ],
            "image/png": "[encoded data removed]"
          },
          "metadata": {}
        }
      ]
    },
    {
      "cell_type": "code",
      "source": [
        "from textblob import TextBlob\n",
        "\n",
        "# Calculate sentiment polarity\n",
        "df['Polarity'] = df['Comment'].apply(lambda x: TextBlob(x).sentiment.polarity)\n",
        "\n",
        "# Visualize the sentiment polarity distribution\n",
        "plt.figure(figsize=(10, 6))\n",
        "sns.histplot(df['Polarity'], bins=30, kde=True, color='blue')\n",
        "plt.title('Distribution of Sentiment Polarity')\n",
        "plt.xlabel('Polarity')\n",
        "plt.ylabel('Frequency')\n",
        "plt.show()"
      ],
      "metadata": {
        "colab": {
          "base_uri": "https://localhost:8080/",
          "height": 564
        },
        "id": "nPaaLSXKTpHS",
        "outputId": "922197d3-b6fb-4c90-e985-8b8dc25cdb4f"
      },
      "execution_count": null,
      "outputs": [
        {
          "output_type": "display_data",
          "data": {
            "text/plain": [
              "<Figure size 1000x600 with 1 Axes>"
            ],
            "image/png": "[encoded data removed]"
          },
          "metadata": {}
        }
      ]
    },
    {
      "cell_type": "code",
      "source": [
        "from nltk.util import ngrams as nltk_ngrams  # Fonksiyon adını değiştirerek çakışmayı önle\n",
        "from nltk import FreqDist\n",
        "\n",
        "def plot_ngrams(df, emotion, n=2, top_n=10):\n",
        "    # Filter the DataFrame for the specified emotion\n",
        "    df_emotion = df[df['Emotion'] == emotion]\n",
        "\n",
        "    # Prepare a list to store all ngrams\n",
        "    all_ngrams = []\n",
        "\n",
        "    # For each comment, calculate ngrams and append to the list\n",
        "    for comment in df_emotion['Comment']:\n",
        "        tokens = word_tokenize(comment)\n",
        "        all_ngrams.extend(nltk_ngrams(tokens, n))  # Düzeltilmiş fonksiyon adını kullan\n",
        "\n",
        "    # Calculate the frequency of each ngram\n",
        "    ngram_freq = FreqDist(all_ngrams)\n",
        "\n",
        "    # Get the most common ngrams\n",
        "    most_common_ngrams = ngram_freq.most_common(top_n)\n",
        "\n",
        "    # Plotting\n",
        "    ngram_list, counts = zip(*most_common_ngrams)  # Değişken adını 'ngram_list' olarak değiştirdim\n",
        "    ngram_list = [' '.join(ngram) for ngram in ngram_list]  # Convert ngram tuples to strings for plotting\n",
        "    plt.figure(figsize=(12, 6))\n",
        "    sns.barplot(x=list(counts), y=ngram_list, palette='viridis')  # Düzeltilmiş değişken adını kullan\n",
        "    plt.title(f'Top {top_n} Most Common {n}-grams for {emotion.capitalize()} Emotion')\n",
        "    plt.xlabel('Count')\n",
        "    plt.ylabel('N-grams')\n",
        "    plt.show()\n",
        "\n",
        "# Usage example for 'joy' bigrams\n",
        "plot_ngrams(df, 'anger', n=3, top_n=10)\n",
        "# For trigrams, simply change n=3\n",
        "# plot_ngrams(df, 'joy', n=3, top_n=10)\n"
      ],
      "metadata": {
        "id": "lATGNiijTwtD",
        "colab": {
          "base_uri": "https://localhost:8080/",
          "height": 640
        },
        "outputId": "88eba6cc-8489-4ed5-bdcd-69c92e45a140"
      },
      "execution_count": null,
      "outputs": [
        {
          "output_type": "stream",
          "name": "stderr",
          "text": [
            "<ipython-input-11-c15ae898e1cd>:26: FutureWarning: \n",
            "\n",
            "Passing `palette` without assigning `hue` is deprecated and will be removed in v0.14.0. Assign the `y` variable to `hue` and set `legend=False` for the same effect.\n",
            "\n",
            "  sns.barplot(x=list(counts), y=ngram_list, palette='viridis')  # Düzeltilmiş değişken adını kullan\n"
          ]
        },
        {
          "output_type": "display_data",
          "data": {
            "text/plain": [
              "<Figure size 1200x600 with 1 Axes>"
            ],
            "image/png": "[encoded data removed]"
          },
          "metadata": {}
        }
      ]
    },
    {
      "cell_type": "code",
      "source": [
        "from sklearn.feature_extraction.text import TfidfVectorizer\n",
        "from sklearn.preprocessing import normalize\n",
        "from scipy.sparse import hstack\n",
        "\n",
        "# TF-IDF vektörleme işlemi için hazırlık yapın.\n",
        "vectorizer = TfidfVectorizer(max_features=1000, ngram_range=(1,3))\n",
        "\n",
        "# Veri setinizi TF-IDF vektörlerine dönüştürün.\n",
        "X = vectorizer.fit_transform(df['Comment'])\n",
        "\n",
        "# Belirli n-gramlar için ekstra ağırlıklar belirleyin.\n",
        "# Bu örneklerde ifadelerinizi doğrudan n-gram olarak arayacağız.\n",
        "# Burada, 'feeling little apprehensive', 'im feeling brave', 'feel like hearthless' gibi ifadeleri kullanıyoruz.\n",
        "phrases = [\n",
        "    \"feeling little apprehensive\", \"feeling bit shaken\", \"feeling little unsure\",\n",
        "    \"im feeling brave\", \"im feeling generous\", \"feel like important\",\n",
        "    \"feel like hearthless\", \"im feeling cranky\", \"im feeling stressed\", \"feel like selfish\"\n",
        "]\n",
        "\n",
        "# Bu özel ifadelerin varlığını kontrol edin ve bunları ayrı özellikler olarak ekleyin.\n",
        "for phrase in phrases:\n",
        "    # Her özel ifade için TF-IDF hesaplayın.\n",
        "    phrase_vector = vectorizer.transform(df['Comment'].apply(lambda x: phrase if phrase in x else ''))\n",
        "\n",
        "    # Phrase vektörlerini normalize edin.\n",
        "    phrase_vector = normalize(phrase_vector, norm='l2', axis=0)\n",
        "\n",
        "    # Vektörlerinize ekstra ağırlık verin. Örneğin 5 kat daha fazla.\n",
        "    phrase_vector *= 5\n",
        "\n",
        "    # TF-IDF vektör matrisine bu yeni vektörleri ekleyin.\n",
        "    X = hstack([X, phrase_vector])\n",
        "\n",
        "# Ağırlıklandırılmış özniteliklerle bir model eğitimi yapmak için artık X kullanabilirsiniz.\n"
      ],
      "metadata": {
        "id": "NtNhAA05bP8I"
      },
      "execution_count": null,
      "outputs": []
    },
    {
      "cell_type": "code",
      "source": [
        "from sklearn.feature_extraction.text import TfidfVectorizer\n",
        "\n",
        "# Initialize TF-IDF Vectorizer with n-grams ranging from 1 to 3\n",
        "vectorizer = TfidfVectorizer(max_features=1000, ngram_range=(1,3))\n",
        "\n",
        "# Fit the vectorizer to the 'Comment' column and transform the text to TF-IDF\n",
        "X_tfidf = vectorizer.fit_transform(df['Comment'])\n",
        "\n",
        "# Retrieve the feature names (which includes the n-grams)\n",
        "feature_names = vectorizer.get_feature_names_out()\n",
        "\n",
        "# Create a DataFrame to view the Bag of Words model\n",
        "df_bow = pd.DataFrame(X_tfidf.toarray(), columns=feature_names)\n",
        "\n",
        "# Display the first few rows of the DataFrame\n",
        "print(df_bow.head())\n"
      ],
      "metadata": {
        "id": "rOBi0zORgRFK",
        "colab": {
          "base_uri": "https://localhost:8080/"
        },
        "outputId": "5f85505a-87bc-48ee-fc04-e1e55ee5ab10"
      },
      "execution_count": null,
      "outputs": [
        {
          "output_type": "stream",
          "name": "stdout",
          "text": [
            "   able  absolutely  acceptable  accepted  across  act  actually  \\\n",
            "0   0.0         0.0         0.0       0.0     0.0  0.0       0.0   \n",
            "1   0.0         0.0         0.0       0.0     0.0  0.0       0.0   \n",
            "2   0.0         0.0         0.0       0.0     0.0  0.0       0.0   \n",
            "3   0.0         0.0         0.0       0.0     0.0  0.0       0.0   \n",
            "4   0.0         0.0         0.0       0.0     0.0  0.0       0.0   \n",
            "\n",
            "   actually feel  admit  adventurous  ...  wrong  wronged  wrote  year  years  \\\n",
            "0            0.0    0.0          0.0  ...    0.0      0.0    0.0   0.0    0.0   \n",
            "1            0.0    0.0          0.0  ...    0.0      0.0    0.0   0.0    0.0   \n",
            "2            0.0    0.0          0.0  ...    0.0      0.0    0.0   0.0    0.0   \n",
            "3            0.0    0.0          0.0  ...    0.0      0.0    0.0   0.0    0.0   \n",
            "4            0.0    0.0          0.0  ...    0.0      0.0    0.0   0.0    0.0   \n",
            "\n",
            "   yes  yesterday  yet  young  youre  \n",
            "0  0.0        0.0  0.0    0.0    0.0  \n",
            "1  0.0        0.0  0.0    0.0    0.0  \n",
            "2  0.0        0.0  0.0    0.0    0.0  \n",
            "3  0.0        0.0  0.0    0.0    0.0  \n",
            "4  0.0        0.0  0.0    0.0    0.0  \n",
            "\n",
            "[5 rows x 1000 columns]\n"
          ]
        }
      ]
    },
    {
      "cell_type": "code",
      "source": [
        "import numpy as np\n",
        "\n",
        "# 'able' kelimesinin indeksini alın\n",
        "index_of_able = np.where(feature_names == 'able')[0][0]\n",
        "\n",
        "# 'able' kelimesinin en yüksek TF-IDF değerine sahip olduğu satırın indeksini bulun\n",
        "max_tfidf_row_index_for_able = df_bow.iloc[:, index_of_able].argmax()\n",
        "\n",
        "# 'able' kelimesinin en yüksek TF-IDF değerine sahip olduğu satırı bulun\n",
        "max_tfidf_row_for_able = df_bow.iloc[max_tfidf_row_index_for_able, :]\n",
        "\n",
        "# Sonucu görüntüleyin\n",
        "print(\"En yüksek TF-IDF değerine sahip olan satır:\")\n",
        "print(max_tfidf_row_for_able)\n"
      ],
      "metadata": {
        "colab": {
          "base_uri": "https://localhost:8080/"
        },
        "id": "lPtWuJclL5Si",
        "outputId": "e2c149d7-9e64-4068-db47-273d3edd22c1"
      },
      "execution_count": null,
      "outputs": [
        {
          "output_type": "stream",
          "name": "stdout",
          "text": [
            "En yüksek TF-IDF değerine sahip olan satır:\n",
            "able          0.591902\n",
            "absolutely    0.000000\n",
            "acceptable    0.000000\n",
            "accepted      0.000000\n",
            "across        0.000000\n",
            "                ...   \n",
            "yes           0.000000\n",
            "yesterday     0.000000\n",
            "yet           0.000000\n",
            "young         0.000000\n",
            "youre         0.000000\n",
            "Name: 5361, Length: 1000, dtype: float64\n"
          ]
        }
      ]
    },
    {
      "cell_type": "code",
      "source": [
        "from sklearn.model_selection import train_test_split\n",
        "from sklearn.naive_bayes import MultinomialNB\n",
        "from sklearn.metrics import classification_report, confusion_matrix\n",
        "\n",
        "# Veri setini eğitim ve test setlerine ayırma\n",
        "X_train, X_test, y_train, y_test = train_test_split(X_tfidf, df['Emotion'], test_size=0.2, random_state=42)\n",
        "\n",
        "# Basit bir model seçimi: Multinomial Naive Bayes\n",
        "model = MultinomialNB()\n",
        "\n",
        "# Modeli eğitme\n",
        "model.fit(X_train, y_train)\n",
        "\n",
        "# Modeli test seti üzerinde değerlendirme\n",
        "y_pred = model.predict(X_test)\n",
        "\n",
        "# Sınıflandırma raporu\n",
        "print(classification_report(y_test, y_pred))\n",
        "\n",
        "# Karışıklık matrisi\n",
        "print(confusion_matrix(y_test, y_pred))\n"
      ],
      "metadata": {
        "colab": {
          "base_uri": "https://localhost:8080/"
        },
        "id": "_qm1zPZ0Oqv6",
        "outputId": "c44fe4b3-a8cd-4ff9-fa05-9a1a1b1ecbe9"
      },
      "execution_count": null,
      "outputs": [
        {
          "output_type": "stream",
          "name": "stdout",
          "text": [
            "              precision    recall  f1-score   support\n",
            "\n",
            "       anger       0.91      0.94      0.92       392\n",
            "        fear       0.94      0.89      0.92       416\n",
            "         joy       0.91      0.93      0.92       380\n",
            "\n",
            "    accuracy                           0.92      1188\n",
            "   macro avg       0.92      0.92      0.92      1188\n",
            "weighted avg       0.92      0.92      0.92      1188\n",
            "\n",
            "[[368  10  14]\n",
            " [ 23 372  21]\n",
            " [ 13  12 355]]\n"
          ]
        }
      ]
    },
    {
      "cell_type": "code",
      "source": [
        "from sklearn.model_selection import GridSearchCV\n",
        "\n",
        "# Parametre grid\n",
        "param_grid = {\n",
        "    'alpha': [0.1, 0.5, 1.0, 2.0]  # Örnek bir parametre grid\n",
        "}\n",
        "\n",
        "# Grid search cross-validation\n",
        "grid_search = GridSearchCV(model, param_grid, cv=5)\n",
        "grid_search.fit(X_train, y_train)\n",
        "\n",
        "# En iyi parametreler\n",
        "print(\"En iyi parametreler:\", grid_search.best_params_)\n",
        "\n",
        "# En iyi model\n",
        "best_model = grid_search.best_estimator_\n"
      ],
      "metadata": {
        "colab": {
          "base_uri": "https://localhost:8080/"
        },
        "id": "cq1sqQNGRt8f",
        "outputId": "7acf1871-256e-44a1-911e-981db7c25d3b"
      },
      "execution_count": null,
      "outputs": [
        {
          "output_type": "stream",
          "name": "stdout",
          "text": [
            "En iyi parametreler: {'alpha': 0.5}\n"
          ]
        }
      ]
    },
    {
      "cell_type": "code",
      "source": [
        "# En iyi parametrelerle eğitilmiş modelin performansını değerlendirme\n",
        "y_pred_best = best_model.predict(X_test)\n",
        "\n",
        "# Sınıflandırma raporu\n",
        "print(\"En iyi modelin Sınıflandırma Raporu:\\n\", classification_report(y_test, y_pred_best))\n",
        "\n",
        "# Karışıklık matrisi\n",
        "print(\"En iyi modelin Karışıklık Matrisi:\\n\", confusion_matrix(y_test, y_pred_best))\n"
      ],
      "metadata": {
        "colab": {
          "base_uri": "https://localhost:8080/"
        },
        "id": "i3gZ2-PhR5Us",
        "outputId": "35c095e4-84b7-4cf5-eb13-782b99b9a00f"
      },
      "execution_count": null,
      "outputs": [
        {
          "output_type": "stream",
          "name": "stdout",
          "text": [
            "En iyi modelin Sınıflandırma Raporu:\n",
            "               precision    recall  f1-score   support\n",
            "\n",
            "       anger       0.91      0.94      0.92       392\n",
            "        fear       0.94      0.90      0.92       416\n",
            "         joy       0.91      0.93      0.92       380\n",
            "\n",
            "    accuracy                           0.92      1188\n",
            "   macro avg       0.92      0.92      0.92      1188\n",
            "weighted avg       0.92      0.92      0.92      1188\n",
            "\n",
            "En iyi modelin Karışıklık Matrisi:\n",
            " [[367  11  14]\n",
            " [ 24 373  19]\n",
            " [ 13  12 355]]\n"
          ]
        }
      ]
    },
    {
      "cell_type": "code",
      "source": [
        "# Yeni veri setini yükleyin\n",
        "emotions2_path = \"/content/drive/MyDrive/Colab_Notebooks/emotion2.csv\"\n",
        "emotions2_df = pd.read_csv(emotions2_path)\n",
        "\n",
        "# 'sadness' ve 'surprise' etiketli verileri filtreleyin ve etiketleri metin olarak güncelleyin\n",
        "emotions2_df['Emotion'] = emotions2_df['label'].map({0: 'sadness', 5: 'surprise'})\n",
        "\n",
        "# 'label' sütununu kaldırın (artık gerekli değil)\n",
        "emotions2_df = emotions2_df.drop('label', axis=1)\n",
        "\n",
        "# 'sadness' ve 'surprise' etiketlerini içeren verileri seçin\n",
        "emotions2_filtered_df = emotions2_df[emotions2_df['Emotion'].isin(['sadness', 'surprise'])]\n",
        "\n",
        "# Ana veri setindeki sütun isimlerini kontrol edin ve eğer farklıysa uyumlu hale getirin\n",
        "print(\"Original dataset columns:\", df.columns)\n",
        "print(\"New dataset columns:\", emotions2_filtered_df.columns)\n",
        "\n",
        "# Eğer 'text' sütunu ana veri setinde 'Comment' olarak adlandırılmışsa, bunu da düzeltmek gerekir\n",
        "emotions2_filtered_df = emotions2_filtered_df.rename(columns={'text': 'Comment'})\n",
        "\n",
        "# Orijinal DataFrame ile birleştirin\n",
        "combined_df = pd.concat([df, emotions2_filtered_df])\n",
        "\n",
        "# Birleştirilmiş veri setini kontrol edin\n",
        "print(combined_df['Emotion'].value_counts())\n",
        "\n",
        "# Yeni veri setini bir CSV dosyası olarak kaydedin\n",
        "combined_df.to_csv(\"/content/drive/MyDrive/Colab_Notebooks/combined_emotions_dataset.csv\", index=False)\n"
      ],
      "metadata": {
        "colab": {
          "base_uri": "https://localhost:8080/"
        },
        "id": "4Olb63rBSI46",
        "outputId": "a1824c11-c9a9-4789-cecf-2a64c72d82e7"
      },
      "execution_count": null,
      "outputs": [
        {
          "output_type": "stream",
          "name": "stdout",
          "text": [
            "Original dataset columns: Index(['Comment', 'Emotion', 'Emojis', 'Polarity'], dtype='object')\n",
            "New dataset columns: Index(['Unnamed: 0', 'text', 'Emotion'], dtype='object')\n",
            "Emotion\n",
            "sadness     121187\n",
            "surprise     14972\n",
            "anger         2000\n",
            "joy           2000\n",
            "fear          1937\n",
            "Name: count, dtype: int64\n"
          ]
        }
      ]
    },
    {
      "cell_type": "code",
      "source": [
        "emotion_counts = combined_df['Emotion'].value_counts()\n",
        "\n",
        "# Sonuçları yazdırın\n",
        "print(emotion_counts)"
      ],
      "metadata": {
        "colab": {
          "base_uri": "https://localhost:8080/"
        },
        "id": "1Eenh2WYZt_Z",
        "outputId": "9252df2f-a7c3-4d9f-eb65-3acadad54281"
      },
      "execution_count": null,
      "outputs": [
        {
          "output_type": "stream",
          "name": "stdout",
          "text": [
            "Emotion\n",
            "sadness     121187\n",
            "surprise     14972\n",
            "anger         2000\n",
            "joy           2000\n",
            "fear          1937\n",
            "Name: count, dtype: int64\n"
          ]
        }
      ]
    },
    {
      "cell_type": "code",
      "source": [
        "# Sadness etiketli girdilerin sayısını kontrol etmek için\n",
        "sadness_count = combined_df[combined_df['Emotion'] == 'sadness'].shape[0]\n",
        "print(f\"Sadness count: {sadness_count}\")\n"
      ],
      "metadata": {
        "colab": {
          "base_uri": "https://localhost:8080/"
        },
        "id": "EV4IgHl-bvno",
        "outputId": "3f546ee1-6331-4b8b-8b95-ab4c937afec2"
      },
      "execution_count": null,
      "outputs": [
        {
          "output_type": "stream",
          "name": "stdout",
          "text": [
            "Sadness count: 121187\n"
          ]
        }
      ]
    },
    {
      "cell_type": "code",
      "source": [
        "from sklearn.utils import resample\n",
        "\n",
        "# Oversampling 'joy', 'anger', ve 'fear'\n",
        "target_sample_size = 15000  # Hedef örnek sayısı\n",
        "\n",
        "joy_augmented = resample(combined_df[combined_df['Emotion'] == 'joy'],\n",
        "                         replace=True,  # Örnekleri tekrar seç\n",
        "                         n_samples=target_sample_size,\n",
        "                         random_state=123)\n",
        "\n",
        "anger_augmented = resample(combined_df[combined_df['Emotion'] == 'anger'],\n",
        "                           replace=True,\n",
        "                           n_samples=target_sample_size,\n",
        "                           random_state=123)\n",
        "\n",
        "fear_augmented = resample(combined_df[combined_df['Emotion'] == 'fear'],\n",
        "                          replace=True,\n",
        "                          n_samples=target_sample_size,\n",
        "                          random_state=123)\n",
        "\n",
        "# Undersampling 'sadness'\n",
        "sadness_reduced = resample(combined_df[combined_df['Emotion'] == 'sadness'],\n",
        "                           replace=False,  # Örnekleri tekrar seçme\n",
        "                           n_samples=15000,  # Hedef örnek sayısı\n",
        "                           random_state=123)\n",
        "\n",
        "# Tüm verileri birleştirme\n",
        "balanced_df = pd.concat([joy_augmented, anger_augmented, fear_augmented, sadness_reduced,\n",
        "                         combined_df[combined_df['Emotion'] == 'surprise']])\n",
        "\n",
        "# Yeni veri setinin boyutunu kontrol etme\n",
        "print(balanced_df['Emotion'].value_counts())\n"
      ],
      "metadata": {
        "colab": {
          "base_uri": "https://localhost:8080/"
        },
        "id": "mejS2dU0djn6",
        "outputId": "5567fc85-781d-4cbd-807d-ab56a89d0911"
      },
      "execution_count": null,
      "outputs": [
        {
          "output_type": "stream",
          "name": "stdout",
          "text": [
            "Emotion\n",
            "joy         15000\n",
            "anger       15000\n",
            "fear        15000\n",
            "sadness     15000\n",
            "surprise    14972\n",
            "Name: count, dtype: int64\n"
          ]
        }
      ]
    },
    {
      "cell_type": "code",
      "source": [
        "# Metinleri küçük harfe çevirme\n",
        "balanced_df['Comment'] = balanced_df['Comment'].str.lower()\n",
        "\n",
        "# Noktalama işaretleri ve rakamları kaldırma\n",
        "balanced_df['Comment'] = balanced_df['Comment'].apply(lambda x: re.sub(r'[\\d.,;]', '', x))\n",
        "\n",
        "# Stopwords'leri çıkarma\n",
        "stop_words = set(stopwords.words('english')) - set(['not'])\n",
        "balanced_df['Comment'] = balanced_df['Comment'].apply(\n",
        "    lambda x: ' '.join([word for word in word_tokenize(x) if word not in stop_words])\n",
        ")\n"
      ],
      "metadata": {
        "id": "4vB3bZGHdoJu"
      },
      "execution_count": null,
      "outputs": []
    },
    {
      "cell_type": "code",
      "source": [
        "from nltk.util import ngrams as nltk_ngrams\n",
        "from nltk import FreqDist\n",
        "from nltk.tokenize import word_tokenize\n",
        "import matplotlib.pyplot as plt\n",
        "import seaborn as sns\n",
        "\n",
        "def plot_ngrams(df, emotion, n=2, top_n=10):\n",
        "    # Filter the DataFrame for the specified emotion\n",
        "    balanced_df = df[df['Emotion'] == emotion]\n",
        "\n",
        "    # Prepare a list to store all ngrams\n",
        "    all_ngrams = []\n",
        "\n",
        "    # For each comment, calculate ngrams and append to the list\n",
        "    for comment in balanced_df['Comment']:\n",
        "        tokens = word_tokenize(comment)\n",
        "        all_ngrams.extend(nltk_ngrams(tokens, n))\n",
        "\n",
        "    # Calculate the frequency of each ngram\n",
        "    ngram_freq = FreqDist(all_ngrams)\n",
        "\n",
        "    # Get the most common ngrams\n",
        "    most_common_ngrams = ngram_freq.most_common(top_n)\n",
        "\n",
        "    # Plotting\n",
        "    ngram_list, counts = zip(*most_common_ngrams)  # Convert ngram tuples to strings for plotting\n",
        "    ngram_list = [' '.join(ngram) for ngram in ngram_list]\n",
        "    plt.figure(figsize=(12, 6))\n",
        "    sns.barplot(x=list(counts), y=ngram_list, palette='viridis')\n",
        "    plt.title(f'Top {top_n} Most Common {n}-grams for {emotion.capitalize()} Emotion')\n",
        "    plt.xlabel('Count')\n",
        "    plt.ylabel('N-grams')\n",
        "    plt.show()\n",
        "\n",
        "\n",
        "# For trigrams, simply change n=3\n",
        "plot_ngrams(combined_df, 'surprise', n=3, top_n=10)\n"
      ],
      "metadata": {
        "colab": {
          "base_uri": "https://localhost:8080/",
          "height": 658
        },
        "id": "V_iF5FEyfJRX",
        "outputId": "b42e0098-7634-4cba-dae3-19a1997c09a9"
      },
      "execution_count": null,
      "outputs": [
        {
          "output_type": "stream",
          "name": "stderr",
          "text": [
            "<ipython-input-23-d4ca93e772dc>:29: FutureWarning: \n",
            "\n",
            "Passing `palette` without assigning `hue` is deprecated and will be removed in v0.14.0. Assign the `y` variable to `hue` and set `legend=False` for the same effect.\n",
            "\n",
            "  sns.barplot(x=list(counts), y=ngram_list, palette='viridis')\n"
          ]
        },
        {
          "output_type": "display_data",
          "data": {
            "text/plain": [
              "<Figure size 1200x600 with 1 Axes>"
            ],
            "image/png": "[encoded data removed]"
          },
          "metadata": {}
        }
      ]
    },
    {
      "cell_type": "code",
      "source": [
        "from sklearn.feature_extraction.text import TfidfVectorizer\n",
        "from sklearn.preprocessing import normalize\n",
        "from scipy.sparse import hstack\n",
        "\n",
        "# TF-IDF vektörleme işlemi için hazırlık yapın.\n",
        "vectorizer = TfidfVectorizer(max_features=1000, ngram_range=(1,3))\n",
        "\n",
        "# Veri setinizi TF-IDF vektörlerine dönüştürün.\n",
        "X = vectorizer.fit_transform(balanced_df['Comment'])\n",
        "\n",
        "# Önceki ifadeler ve yeni ifadeleri birleştirin\n",
        "phrases = [\n",
        "    \"feeling little apprehensive\", \"feeling bit shaken\", \"feeling little unsure\",\n",
        "    \"im feeling brave\", \"im feeling generous\", \"feel like important\",\n",
        "    \"feel like hearthless\", \"im feeling cranky\", \"im feeling stressed\", \"feel like selfish\",\n",
        "    # Sadness için yeni ifadeler\n",
        "    \"feel like missed\", \"feel like punished\",\n",
        "    # Surprise için yeni ifadeler\n",
        "    \"remember feeling shocked\", \"feeling little dazed\"\n",
        "]\n",
        "\n",
        "# Bu özel ifadelerin varlığını kontrol edin ve bunları ayrı özellikler olarak ekleyin.\n",
        "for phrase in phrases:\n",
        "    # Her özel ifade için TF-IDF hesaplayın.\n",
        "    phrase_vector = vectorizer.transform(balanced_df['Comment'].apply(lambda x: phrase if phrase in x else ''))\n",
        "\n",
        "    # Phrase vektörlerini normalize edin.\n",
        "    phrase_vector = normalize(phrase_vector, norm='l2', axis=0)\n",
        "\n",
        "    # Vektörlerinize ekstra ağırlık verin. Örneğin 5 kat daha fazla.\n",
        "    phrase_vector *= 5\n",
        "\n",
        "    # TF-IDF vektör matrisine bu yeni vektörleri ekleyin.\n",
        "    X = hstack([X, phrase_vector])\n",
        "\n",
        "# Ağırlıklandırılmış özniteliklerle bir model eğitimi yapmak için artık X kullanabilirsiniz.\n"
      ],
      "metadata": {
        "id": "kum8UcKafy_J"
      },
      "execution_count": null,
      "outputs": []
    },
    {
      "cell_type": "code",
      "source": [
        "from sklearn.feature_extraction.text import TfidfVectorizer\n",
        "from sklearn.model_selection import train_test_split\n",
        "from sklearn.naive_bayes import MultinomialNB\n",
        "from sklearn.metrics import classification_report, confusion_matrix\n",
        "\n",
        "# TF-IDF vektörleme işlemi\n",
        "vectorizer = TfidfVectorizer(max_features=1000, ngram_range=(1,3))\n",
        "X = vectorizer.fit_transform(balanced_df['Comment'])\n",
        "\n",
        "# Veri setini eğitim ve test setlerine ayırma\n",
        "X_train, X_test, y_train, y_test = train_test_split(X, balanced_df['Emotion'], test_size=0.2, random_state=42)\n",
        "\n",
        "# Basit bir model seçimi: Multinomial Naive Bayes\n",
        "model = MultinomialNB()\n",
        "\n",
        "# Modeli eğitme\n",
        "model.fit(X_train, y_train)\n",
        "\n",
        "# Modeli test seti üzerinde değerlendirme\n",
        "y_pred = model.predict(X_test)\n",
        "\n",
        "# Sınıflandırma raporu\n",
        "print(classification_report(y_test, y_pred))\n",
        "\n",
        "# Karışıklık matrisi\n",
        "print(confusion_matrix(y_test, y_pred))\n"
      ],
      "metadata": {
        "colab": {
          "base_uri": "https://localhost:8080/"
        },
        "id": "mL4IbbONhVxM",
        "outputId": "8eccfad7-b4a7-4cc4-e794-ede3dab236b2"
      },
      "execution_count": null,
      "outputs": [
        {
          "output_type": "stream",
          "name": "stdout",
          "text": [
            "              precision    recall  f1-score   support\n",
            "\n",
            "       anger       0.89      0.90      0.89      3017\n",
            "        fear       0.87      0.82      0.85      3024\n",
            "         joy       0.86      0.87      0.87      2999\n",
            "     sadness       0.87      0.83      0.85      2947\n",
            "    surprise       0.87      0.93      0.90      3008\n",
            "\n",
            "    accuracy                           0.87     14995\n",
            "   macro avg       0.87      0.87      0.87     14995\n",
            "weighted avg       0.87      0.87      0.87     14995\n",
            "\n",
            "[[2719   71   91  123   13]\n",
            " [ 109 2486   77   93  259]\n",
            " [  83   85 2614  123   94]\n",
            " [ 140  122  179 2454   52]\n",
            " [  17   83   78   23 2807]]\n"
          ]
        }
      ]
    },
    {
      "cell_type": "code",
      "source": [],
      "metadata": {
        "id": "ozDVHc9gh-tJ"
      },
      "execution_count": null,
      "outputs": []
    }
  ]
}